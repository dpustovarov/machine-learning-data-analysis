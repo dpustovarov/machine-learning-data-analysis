{
 "cells": [
  {
   "cell_type": "code",
   "execution_count": 1,
   "metadata": {},
   "outputs": [
    {
     "data": {
      "text/plain": [
       "(1797, 64)"
      ]
     },
     "execution_count": 1,
     "metadata": {},
     "output_type": "execute_result"
    }
   ],
   "source": [
    "from sklearn.datasets import load_digits\n",
    "from sklearn.model_selection import cross_val_score\n",
    "\n",
    "(data, target) = load_digits(return_X_y=True)\n",
    "data.shape"
   ]
  },
  {
   "cell_type": "code",
   "execution_count": 2,
   "metadata": {},
   "outputs": [
    {
     "data": {
      "text/plain": [
       "0.8213661019872875"
      ]
     },
     "execution_count": 2,
     "metadata": {},
     "output_type": "execute_result"
    }
   ],
   "source": [
    "from sklearn.tree import DecisionTreeClassifier\n",
    "\n",
    "estimator = DecisionTreeClassifier()\n",
    "score = cross_val_score(estimator, data, target, cv=10, n_jobs=-1).mean()\n",
    "\n",
    "with open('1-answer-1.txt', 'w') as submission:\n",
    "    submission.write(str(score))\n",
    "score"
   ]
  },
  {
   "cell_type": "code",
   "execution_count": 3,
   "metadata": {},
   "outputs": [
    {
     "data": {
      "text/plain": [
       "0.9270844299462183"
      ]
     },
     "execution_count": 3,
     "metadata": {},
     "output_type": "execute_result"
    }
   ],
   "source": [
    "from sklearn.ensemble import BaggingClassifier\n",
    "\n",
    "estimator = BaggingClassifier(base_estimator=DecisionTreeClassifier(), n_estimators=100)\n",
    "score = cross_val_score(estimator, data, target, cv=10, n_jobs=-1).mean()\n",
    "\n",
    "with open('1-answer-2.txt', 'w') as submission:\n",
    "    submission.write(str(score))\n",
    "score"
   ]
  },
  {
   "cell_type": "code",
   "execution_count": 4,
   "metadata": {},
   "outputs": [
    {
     "data": {
      "text/plain": [
       "0.9360632189406685"
      ]
     },
     "execution_count": 4,
     "metadata": {},
     "output_type": "execute_result"
    }
   ],
   "source": [
    "estimator = BaggingClassifier(base_estimator=DecisionTreeClassifier(), n_estimators=100, max_features=int(data.shape[1]**0.5))\n",
    "score = cross_val_score(estimator, data, target, cv=10, n_jobs=-1).mean()\n",
    "\n",
    "with open('1-answer-3.txt', 'w') as submission:\n",
    "    submission.write(str(score))\n",
    "score"
   ]
  },
  {
   "cell_type": "code",
   "execution_count": 5,
   "metadata": {},
   "outputs": [
    {
     "data": {
      "text/plain": [
       "0.9544265193095971"
      ]
     },
     "execution_count": 5,
     "metadata": {},
     "output_type": "execute_result"
    }
   ],
   "source": [
    "estimator = BaggingClassifier(base_estimator=DecisionTreeClassifier(max_features='sqrt'), n_estimators=100)\n",
    "score = cross_val_score(estimator, data, target, cv=10, n_jobs=-1).mean()\n",
    "\n",
    "with open('1-answer-4.txt', 'w') as submission:\n",
    "    submission.write(str(score))\n",
    "score"
   ]
  },
  {
   "cell_type": "code",
   "execution_count": 6,
   "metadata": {},
   "outputs": [
    {
     "data": {
      "text/plain": [
       "0.9566813323652935"
      ]
     },
     "execution_count": 6,
     "metadata": {},
     "output_type": "execute_result"
    }
   ],
   "source": [
    "from sklearn.ensemble import RandomForestClassifier\n",
    "\n",
    "estimator = RandomForestClassifier(n_estimators=100, max_features='sqrt')\n",
    "score = cross_val_score(estimator, data, target, cv=10, n_jobs=-1).mean()\n",
    "\n",
    "score"
   ]
  },
  {
   "cell_type": "code",
   "execution_count": 7,
   "metadata": {},
   "outputs": [
    {
     "name": "stdout",
     "output_type": "stream",
     "text": [
      "Populating the interactive namespace from numpy and matplotlib\n"
     ]
    },
    {
     "data": {
      "text/plain": [
       "array([[1.00000000e+00, 7.31785051e-01],\n",
       "       [2.00000000e+00, 7.44265412e-01],\n",
       "       [4.00000000e+00, 8.66401202e-01],\n",
       "       [8.00000000e+00, 9.04433501e-01],\n",
       "       [1.60000000e+01, 9.32745225e-01],\n",
       "       [3.20000000e+01, 9.46056549e-01],\n",
       "       [6.40000000e+01, 9.48933386e-01],\n",
       "       [1.28000000e+02, 9.58351578e-01],\n",
       "       [2.56000000e+02, 9.53927944e-01],\n",
       "       [5.12000000e+02, 9.53380966e-01],\n",
       "       [1.02400000e+03, 9.51070611e-01]])"
      ]
     },
     "execution_count": 7,
     "metadata": {},
     "output_type": "execute_result"
    },
    {
     "data": {
      "image/png": "[encoded data removed]",
      "text/plain": [
       "<Figure size 432x288 with 1 Axes>"
      ]
     },
     "metadata": {
      "needs_background": "light"
     },
     "output_type": "display_data"
    }
   ],
   "source": [
    "%pylab inline\n",
    "\n",
    "n_estimators = 2**np.array([0, 1, 2, 3, 4, 5, 6, 7, 8, 9, 10])\n",
    "scores = [cross_val_score(RandomForestClassifier(n_estimators=n, max_features='sqrt'), data, target, cv=10, n_jobs=-1).mean() for n in n_estimators]\n",
    "pylab.axes(xscale='log', xlabel='Estimators', ylabel='Score')\n",
    "pylab.grid(True)\n",
    "pylab.plot(n_estimators, scores)\n",
    "np.column_stack((n_estimators, scores))"
   ]
  },
  {
   "cell_type": "code",
   "execution_count": 8,
   "metadata": {},
   "outputs": [
    {
     "data": {
      "text/plain": [
       "array([[ 1.        ,  0.94604076],\n",
       "       [ 2.        ,  0.95057622],\n",
       "       [ 3.        ,  0.95389796],\n",
       "       [ 4.        ,  0.95221856],\n",
       "       [ 6.        ,  0.95453604],\n",
       "       [ 8.        ,  0.9544562 ],\n",
       "       [12.        ,  0.95441275],\n",
       "       [16.        ,  0.9478003 ],\n",
       "       [24.        ,  0.9472282 ],\n",
       "       [32.        ,  0.9466463 ],\n",
       "       [48.        ,  0.933305  ],\n",
       "       [64.        ,  0.9254796 ]])"
      ]
     },
     "execution_count": 8,
     "metadata": {},
     "output_type": "execute_result"
    },
    {
     "data": {
      "image/png": "[encoded data removed]",
      "text/plain": [
       "<Figure size 432x288 with 1 Axes>"
      ]
     },
     "metadata": {
      "needs_background": "light"
     },
     "output_type": "display_data"
    }
   ],
   "source": [
    "max_features = np.array([1, 2, 3, 4, 6, 8, 12, 16, 24, 32, 48, 64])\n",
    "scores = [cross_val_score(RandomForestClassifier(n_estimators=100, max_features=n), data, target, cv=10, n_jobs=-1).mean() for n in max_features]\n",
    "pylab.axes(xlabel='Max features', ylabel='Score')\n",
    "pylab.grid(True)\n",
    "pylab.plot(max_features, scores)\n",
    "np.column_stack((max_features, scores))"
   ]
  },
  {
   "cell_type": "code",
   "execution_count": 9,
   "metadata": {},
   "outputs": [
    {
     "data": {
      "text/plain": [
       "array([[ 1.        ,  0.68260823],\n",
       "       [ 2.        ,  0.79473959],\n",
       "       [ 3.        ,  0.86079977],\n",
       "       [ 4.        ,  0.87865551],\n",
       "       [ 6.        ,  0.93090506],\n",
       "       [ 8.        ,  0.94331214],\n",
       "       [12.        ,  0.95332067],\n",
       "       [16.        ,  0.95108816],\n",
       "       [24.        ,  0.94989662],\n",
       "       [32.        ,  0.94999305],\n",
       "       [48.        ,  0.95442268],\n",
       "       [64.        ,  0.95057862]])"
      ]
     },
     "execution_count": 9,
     "metadata": {},
     "output_type": "execute_result"
    },
    {
     "data": {
      "image/png": "[encoded data removed]",
      "text/plain": [
       "<Figure size 432x288 with 1 Axes>"
      ]
     },
     "metadata": {
      "needs_background": "light"
     },
     "output_type": "display_data"
    }
   ],
   "source": [
    "max_depth = np.array([1, 2, 3, 4, 6, 8, 12, 16, 24, 32, 48, 64])\n",
    "scores = [cross_val_score(RandomForestClassifier(n_estimators=100, max_features='sqrt', max_depth=n), data, target, cv=10, n_jobs=-1).mean() for n in max_depth]\n",
    "pylab.axes(xscale='log', xlabel='Max depth', ylabel='Score')\n",
    "pylab.grid(True)\n",
    "pylab.plot(max_features, scores)\n",
    "np.column_stack((max_depth, scores))"
   ]
  },
  {
   "cell_type": "code",
   "execution_count": 10,
   "metadata": {},
   "outputs": [],
   "source": [
    "with open('1-answer-5.txt', 'w') as submission:\n",
    "    submission.write('2 3 4 7')"
   ]
  },
  {
   "cell_type": "code",
   "execution_count": null,
   "metadata": {},
   "outputs": [],
   "source": []
  }
 ],
 "metadata": {
  "kernelspec": {
   "display_name": "Python 3",
   "language": "python",
   "name": "python3"
  },
  "language_info": {
   "codemirror_mode": {
    "name": "ipython",
    "version": 3
   },
   "file_extension": ".py",
   "mimetype": "text/x-python",
   "name": "python",
   "nbconvert_exporter": "python",
   "pygments_lexer": "ipython3",
   "version": "3.7.3"
  }
 },
 "nbformat": 4,
 "nbformat_minor": 2
}
