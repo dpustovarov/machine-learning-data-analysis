{
 "cells": [
  {
   "cell_type": "code",
   "execution_count": 36,
   "metadata": {},
   "outputs": [],
   "source": [
    "import re\n",
    "from scipy.spatial import distance"
   ]
  },
  {
   "cell_type": "code",
   "execution_count": 37,
   "metadata": {},
   "outputs": [],
   "source": [
    "with open('sentences.txt') as file:\n",
    "    sentences = [[word for word in re.split(r'[^a-z]+', line.lower()) if word] for line in file]"
   ]
  },
  {
   "cell_type": "code",
   "execution_count": 38,
   "metadata": {},
   "outputs": [
    {
     "name": "stdout",
     "output_type": "stream",
     "text": [
      "{'selection', 'wrong', 'was', 'with', 'so', 'mice', 'however', 'it', 'other', 'be', 'versions', 'yosemite', 'major', 'available', 'disk', 'receives', 'based', 'output', 'often', 'file', 'patch', 'terms', 'interactive', 'changes', 'non', 'community', 'faint', 'october', 'lion', 'an', 'need', 'felis', 'diploid', 'delete', 'just', 'arguments', 'which', 'switch', 'version', 'has', 'simply', 'one', 'its', 'members', 'learned', 'pipes', 'are', 'comparison', 'you', 'is', 'closest', 'kg', 'later', 'process', 'x', 'july', 'mavericks', 'place', 'domestication', 'connected', 'firmware', 'small', 'animals', 'those', 'domesticated', 'intel', 'now', 'on', 'drive', 'predators', 'through', 'too', 'part', 'binary', 'safari', 'create', 'more', 'genus', 'new', 'started', 'tiger', 'moved', 'used', 'made', 'instead', 'editions', 'releases', 'features', 'no', 'cats', 'hear', 'left', 'apple', 'during', 'a', 'as', 'that', 'piped', 'keyboards', 'type', 'some', 'the', 'since', 'single', 'running', 'lb', 'mac', 'over', 'in', 'files', 'than', 's', 'possess', 'domestic', 'clear', 'second', 'to', 'not', 'organisms', 'using', 'off', 'update', 'can', 'store', 'of', 'basic', 'symbols', 'longer', 'streams', 'undergone', 'redirection', 'wild', 'symbol', 'standard', 'people', 'stdin', 'have', 'according', 'won', 'if', 'typically', 'named', 'sounds', 'redirected', 'permanently', 'every', 'time', 't', 'received', 'app', 'count', 'catenates', 'similar', 'content', 'and', 'size', 'flow', 'any', 'also', 'genes', 'released', 'sequence', 'world', 'may', 'human', 'two', 'useful', 'they', 'separate', 'external', 'installation', 'three', 'contains', 'processors', 'recent', 'dogs', 'their', 'cat', 'high', 'ancestor', 'online', 'factory', 'mid', 'allows', 'vermin', 'roughly', 'tamed', 'both', 'osx', 'offered', 'year', 'deliberately', 'concern', 'developed', 'ears', 'from', 'computers', 'without', 'rather', 'run', 'use', 'lines', 'enhancements', 'leopard', 'will', 'default', 'adjacent', 'frequency', 'predecessor', 'common', 'allow', 'unnecessary', 'needing', 'when', 'bytes', 'successor', 'installs', 'chromosomes', 'for', 'upgrade', 'purchase', 'where', 'incremental', 'download', 'such', 'fifth', 'right', 'legibility', 'commands', 'command', 'linux', 'stdout', 'marks', 'os', 'most', 'error', 'displays', 'read', 'safer', 'concatenate', 'unix', 'installed', 'between', 'information', 'were', 'release', 'weighing', 'releasing', 'by', 'entirely', 'mountain', 'starting', 'artificial', 'or'} 254\n"
     ]
    }
   ],
   "source": [
    "words = set().union(*sentences)\n",
    "print(words, len(words))"
   ]
  },
  {
   "cell_type": "code",
   "execution_count": 39,
   "metadata": {},
   "outputs": [],
   "source": [
    "counts = [[s.count(w) for w in words] for s in sentences]"
   ]
  },
  {
   "cell_type": "code",
   "execution_count": 40,
   "metadata": {},
   "outputs": [
    {
     "name": "stdout",
     "output_type": "stream",
     "text": [
      "[(0, 0.0), (6, 0.7327387580875756), (4, 0.7770887149698589), (21, 0.8250364469440588), (10, 0.8328165362273942), (12, 0.8396432548525454), (16, 0.8406361854220809), (20, 0.8427572744917122), (2, 0.8644738145642124), (13, 0.8703592552895671), (14, 0.8740118423302576), (11, 0.8804771390665607), (8, 0.8842724875284311), (19, 0.8885443574849294), (3, 0.8951715163278082), (9, 0.9055088817476932), (7, 0.9258750683338899), (5, 0.9402385695332803), (15, 0.9442721787424647), (18, 0.9442721787424647), (1, 0.9527544408738466), (17, 0.956644501523794)]\n"
     ]
    }
   ],
   "source": [
    "distances = sorted(enumerate([distance.cosine(counts[0], c) for c in counts]), key = lambda t: t[1])\n",
    "print(distances)"
   ]
  },
  {
   "cell_type": "code",
   "execution_count": 41,
   "metadata": {},
   "outputs": [],
   "source": [
    "with open('submission-1.txt', 'w') as submission:\n",
    "    submission.write(' '.join(str(distances[i][0]) for i in range(1, 3)))"
   ]
  },
  {
   "cell_type": "code",
   "execution_count": null,
   "metadata": {},
   "outputs": [],
   "source": []
  }
 ],
 "metadata": {
  "kernelspec": {
   "display_name": "Python 3",
   "language": "python",
   "name": "python3"
  },
  "language_info": {
   "codemirror_mode": {
    "name": "ipython",
    "version": 3
   },
   "file_extension": ".py",
   "mimetype": "text/x-python",
   "name": "python",
   "nbconvert_exporter": "python",
   "pygments_lexer": "ipython3",
   "version": "3.7.3"
  }
 },
 "nbformat": 4,
 "nbformat_minor": 2
}
